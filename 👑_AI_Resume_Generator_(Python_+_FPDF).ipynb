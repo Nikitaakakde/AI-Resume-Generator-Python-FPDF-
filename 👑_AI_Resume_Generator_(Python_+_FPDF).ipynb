{
  "nbformat": 4,
  "nbformat_minor": 0,
  "metadata": {
    "colab": {
      "provenance": []
    },
    "kernelspec": {
      "name": "python3",
      "display_name": "Python 3"
    },
    "language_info": {
      "name": "python"
    }
  },
  "cells": [
    {
      "cell_type": "code",
      "source": [
        "!pip install fpdf\n",
        "from fpdf import FPDF\n",
        "\n",
        "# Define custom A4 PDF class\n",
        "class ResumePDF(FPDF):\n",
        "    def header(self):\n",
        "        # Use a Unicode font like \"DejaVuSans\" or \"ArialUnicodeMS\" if available,\n",
        "        # otherwise stick to basic fonts and avoid non-ASCII characters.\n",
        "        # For demonstration, we will use a basic font and remove the emoji.\n",
        "        self.set_font(\"Arial\", \"B\", 14)\n",
        "        self.set_text_color(0, 102, 204)\n",
        "        # Removed the emoji 🔹 as it causes encoding issues\n",
        "        self.cell(0, 10, f\"{name.upper()}\", ln=True, align='C')\n",
        "        self.set_font(\"Arial\", \"\", 10)\n",
        "        self.set_text_color(0, 0, 0)\n",
        "        contact_info = f\"📞 {phone} | ✉️ {email} | {linkedin} | {github}\" # Keeping some common symbols, might need adjustment\n",
        "        self.cell(0, 8, contact_info, ln=True, align='C')\n",
        "        self.ln(5)\n",
        "        self.line(10, 30, 200, 30)\n",
        "\n",
        "    def section(self, title, content):\n",
        "        self.set_font(\"Arial\", \"B\", 12)\n",
        "        self.set_text_color(0, 0, 128)\n",
        "        self.cell(0, 10, title, ln=True)\n",
        "        self.set_text_color(0, 0, 0)\n",
        "        self.set_font(\"Arial\", \"\", 11)\n",
        "        # Ensure content is treated as UTF-8\n",
        "        self.multi_cell(0, 8, content.encode('latin-1', 'replace').decode('latin-1')) # Simple workaround, full unicode requires font embedding\n",
        "        self.ln(3)\n",
        "\n",
        "# 🔹 Collect input from user\n",
        "print(\"👑 Enter your resume details below:\\n\")\n",
        "\n",
        "name = input(\"Full Name: \")\n",
        "phone = input(\"Phone Number: \")\n",
        "email = input(\"Email: \")\n",
        "linkedin = input(\"LinkedIn Profile URL: \")\n",
        "github = input(\"GitHub Profile URL: \")\n",
        "\n",
        "profile_summary = input(\"\\nProfile Summary:\\n\")\n",
        "\n",
        "technical_skills = input(\"\\nTechnical Skills (use commas or newlines):\\n\")\n",
        "\n",
        "projects = input(\"\\nProjects (use • bullets or numbered list):\\n\")\n",
        "\n",
        "education = input(\"\\nEducation Details:\\n\")\n",
        "\n",
        "certifications = input(\"\\nCertifications & Courses:\\n\")\n",
        "\n",
        "interests = input(\"\\nPersonal Interests:\\n\")\n",
        "\n",
        "#  Generate Resume PDF\n",
        "pdf = ResumePDF()\n",
        "pdf.add_page()\n",
        "\n",
        "pdf.section(\"PROFILE SUMMARY\", profile_summary)\n",
        "pdf.section(\"TECHNICAL SKILLS\", technical_skills)\n",
        "pdf.section(\"PROJECTS\", projects)\n",
        "pdf.section(\"EDUCATION\", education)\n",
        "pdf.section(\"CERTIFICATIONS & COURSES\", certifications)\n",
        "pdf.section(\"PERSONAL INTERESTS\", interests)\n",
        "\n",
        "filename = \"Generated_Resume.pdf\"\n",
        "pdf.output(filename)\n",
        "\n",
        "print(f\"\\n✅ Done! Your resume is saved as: {filename}\")"
      ],
      "metadata": {
        "id": "Gbttl1qcKW7A"
      },
      "execution_count": null,
      "outputs": []
    },
    {
      "cell_type": "code",
      "source": [],
      "metadata": {
        "id": "g_Bp3p99LQxI"
      },
      "execution_count": null,
      "outputs": []
    }
  ]
}